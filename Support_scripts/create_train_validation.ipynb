{
 "cells": [
  {
   "cell_type": "code",
   "execution_count": 12,
   "metadata": {},
   "outputs": [],
   "source": [
    "import numpy as np\n",
    "import cv2\n",
    "import os\n",
    "from os.path import join\n",
    "\n",
    "IMAGE_PATH = './image/'\n",
    "LABEL_PATH = './ground_truth/'"
   ]
  },
  {
   "cell_type": "code",
   "execution_count": 9,
   "metadata": {},
   "outputs": [],
   "source": [
    "# image_files = sorted(os.listdir(IMAGE_PATH))\n",
    "# label_files = sorted(os.listdir(LABEL_PATH))"
   ]
  },
  {
   "cell_type": "code",
   "execution_count": 8,
   "metadata": {},
   "outputs": [],
   "source": [
    "# for file in image_files:\n",
    "#     if len(file.split('.')[0]) == 1:\n",
    "#         os.rename(os.path.join(IMAGE_PATH, file), os.path.join(IMAGE_PATH, '000'+file.split('.')[0]+'.png'))\n",
    "#     if len(file.split('.')[0]) == 2:\n",
    "#         os.rename(os.path.join(IMAGE_PATH, file), os.path.join(IMAGE_PATH, '00'+file.split('.')[0]+'.png'))\n",
    "#     if len(file.split('.')[0]) == 3:\n",
    "#         os.rename(os.path.join(IMAGE_PATH, file), os.path.join(IMAGE_PATH, '0'+file.split('.')[0]+'.png'))\n",
    "        \n",
    "        \n",
    "# for file in label_files:\n",
    "#     if len(file.split('.')[0]) == 1:\n",
    "#         os.rename(os.path.join(LABEL_PATH, file), os.path.join(LABEL_PATH, '000'+file.split('.')[0]+'.png'))\n",
    "#     if len(file.split('.')[0]) == 2:\n",
    "#         os.rename(os.path.join(LABEL_PATH, file), os.path.join(LABEL_PATH, '00'+file.split('.')[0]+'.png'))\n",
    "#     if len(file.split('.')[0]) == 3:\n",
    "#         os.rename(os.path.join(LABEL_PATH, file), os.path.join(LABEL_PATH, '0'+file.split('.')[0]+'.png'))"
   ]
  },
  {
   "cell_type": "code",
   "execution_count": 25,
   "metadata": {},
   "outputs": [
    {
     "data": {
      "text/plain": [
       "(5000, 2)"
      ]
     },
     "execution_count": 25,
     "metadata": {},
     "output_type": "execute_result"
    }
   ],
   "source": [
    "image_files = sorted(os.listdir(IMAGE_PATH))\n",
    "label_files = sorted(os.listdir(LABEL_PATH))\n",
    "\n",
    "# for index, file in enumerate(image_files):\n",
    "#     image_files[index] = join(IMAGE_PATH, file)\n",
    "\n",
    "# for index, file in enumerate(label_files):\n",
    "#     label_files[index] = join(LABEL_PATH, file)\n",
    "\n",
    "data_paths = np.array(list(zip(image_files, label_files)))\n",
    "data_paths.shape"
   ]
  },
  {
   "cell_type": "code",
   "execution_count": 26,
   "metadata": {},
   "outputs": [
    {
     "data": {
      "text/plain": [
       "array([['2115.png', '2115.png'],\n",
       "       ['0161.png', '0161.png'],\n",
       "       ['1540.png', '1540.png'],\n",
       "       ...,\n",
       "       ['2773.png', '2773.png'],\n",
       "       ['0960.png', '0960.png'],\n",
       "       ['2299.png', '2299.png']], dtype='<U8')"
      ]
     },
     "execution_count": 26,
     "metadata": {},
     "output_type": "execute_result"
    }
   ],
   "source": [
    "np.random.shuffle(data_paths)\n",
    "data_paths"
   ]
  },
  {
   "cell_type": "code",
   "execution_count": 36,
   "metadata": {},
   "outputs": [
    {
     "data": {
      "text/plain": [
       "((3500, 2), (1500, 2))"
      ]
     },
     "execution_count": 36,
     "metadata": {},
     "output_type": "execute_result"
    }
   ],
   "source": [
    "split = int(data_paths.shape[0]*0.7)\n",
    "training_paths, validation_paths = np.split(data_paths, [split])\n",
    "training_paths.shape, validation_paths.shape"
   ]
  },
  {
   "cell_type": "code",
   "execution_count": 40,
   "metadata": {},
   "outputs": [],
   "source": [
    "for paths in training_paths:\n",
    "    if os.path.isfile(join(IMAGE_PATH, paths[0])):\n",
    "        os.rename(join(IMAGE_PATH, paths[0]), join(IMAGE_PATH, 'training', paths[0]))\n",
    "    if os.path.isfile(join(LABEL_PATH, paths[1])):\n",
    "        os.rename(join(LABEL_PATH, paths[1]), join(LABEL_PATH, 'training', paths[1]))\n",
    "        \n",
    "        \n",
    "for paths in validation_paths:\n",
    "    if os.path.isfile(join(IMAGE_PATH, paths[0])):\n",
    "        os.rename(join(IMAGE_PATH, paths[0]), join(IMAGE_PATH, 'validation', paths[0]))\n",
    "    if os.path.isfile(join(LABEL_PATH, paths[1])):\n",
    "        os.rename(join(LABEL_PATH, paths[1]), join(LABEL_PATH, 'validation', paths[1]))"
   ]
  },
  {
   "cell_type": "code",
   "execution_count": null,
   "metadata": {},
   "outputs": [],
   "source": []
  }
 ],
 "metadata": {
  "kernelspec": {
   "display_name": "Python 3",
   "language": "python",
   "name": "python3"
  },
  "language_info": {
   "codemirror_mode": {
    "name": "ipython",
    "version": 3
   },
   "file_extension": ".py",
   "mimetype": "text/x-python",
   "name": "python",
   "nbconvert_exporter": "python",
   "pygments_lexer": "ipython3",
   "version": "3.6.4"
  }
 },
 "nbformat": 4,
 "nbformat_minor": 2
}
