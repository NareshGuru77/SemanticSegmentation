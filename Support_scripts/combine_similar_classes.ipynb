{
 "cells": [
  {
   "cell_type": "code",
   "execution_count": 1,
   "metadata": {},
   "outputs": [],
   "source": [
    "import cv2\n",
    "import numpy as np\n",
    "import os\n",
    "from os.path import join"
   ]
  },
  {
   "cell_type": "code",
   "execution_count": 2,
   "metadata": {},
   "outputs": [],
   "source": [
    "label_def = {'f20_20_B': 1, 's40_40_B': 2, 'f20_20_G': 3, 's40_40_G': 4,  'm20_100': 5, \n",
    "             'm20': 6, 'm30': 7, 'r20': 8, 'bearing_box_ax01': 9, 'bearing': 10, 'axis': 11, \n",
    "             'distance_tube': 12, 'motor': 13, 'container_box_blue': 14, 'container_box_red': 15, \n",
    "             'bearing_box_ax16': 16, 'em_01': 17, 'em_02': 18, 'background': 19}"
   ]
  },
  {
   "cell_type": "code",
   "execution_count": 3,
   "metadata": {},
   "outputs": [
    {
     "data": {
      "text/plain": [
       "{'axis': 10,\n",
       " 'background': 18,\n",
       " 'bearing': 9,\n",
       " 'bearing_box_ax01': 8,\n",
       " 'bearing_box_ax16': 15,\n",
       " 'container_box_blue': 13,\n",
       " 'container_box_red': 14,\n",
       " 'distance_tube': 11,\n",
       " 'em_01': 16,\n",
       " 'em_02': 17,\n",
       " 'f20_20_B': 0,\n",
       " 'f20_20_G': 2,\n",
       " 'm20': 5,\n",
       " 'm20_100': 4,\n",
       " 'm30': 6,\n",
       " 'motor': 12,\n",
       " 'r20': 7,\n",
       " 's40_40_B': 1,\n",
       " 's40_40_G': 3}"
      ]
     },
     "execution_count": 3,
     "metadata": {},
     "output_type": "execute_result"
    }
   ],
   "source": [
    "for key in label_def.keys():\n",
    "    label_def[key] -= 1\n",
    "    \n",
    "label_def"
   ]
  },
  {
   "cell_type": "markdown",
   "metadata": {},
   "source": [
    "### After combination: 1->0; 2,3->1; 4->2; 5,6->3; 7->4; 8,15 ->5; 9->6; 10->7; 11->8; 12->9; 13->10; 14->11; 16->12;      \n",
    "### 17->13; 18->14;"
   ]
  },
  {
   "cell_type": "code",
   "execution_count": 4,
   "metadata": {},
   "outputs": [],
   "source": [
    "LABEL_PATH = './ground_truth_combined'\n",
    "\n",
    "sets = os.listdir(LABEL_PATH)\n",
    "\n",
    "file_paths = list()\n",
    "for s in sets:\n",
    "    for file in os.listdir(join(LABEL_PATH, s)):\n",
    "        file_paths.append(join(LABEL_PATH, s, file))\n"
   ]
  },
  {
   "cell_type": "code",
   "execution_count": 5,
   "metadata": {},
   "outputs": [
    {
     "data": {
      "text/plain": [
       "{'axis': 7,\n",
       " 'background': 14,\n",
       " 'bearing': 6,\n",
       " 'bearing_box_ax01': 5,\n",
       " 'bearing_box_ax16': 5,\n",
       " 'container_box_blue': 10,\n",
       " 'container_box_red': 11,\n",
       " 'distance_tube': 8,\n",
       " 'em_01': 12,\n",
       " 'em_02': 13,\n",
       " 'f20_20_B': 0,\n",
       " 'f20_20_G': 1,\n",
       " 'm20': 3,\n",
       " 'm20_100': 2,\n",
       " 'm30': 3,\n",
       " 'motor': 9,\n",
       " 'r20': 4,\n",
       " 's40_40_B': 0,\n",
       " 's40_40_G': 1}"
      ]
     },
     "execution_count": 5,
     "metadata": {},
     "output_type": "execute_result"
    }
   ],
   "source": [
    "label_def_combined = label_def.copy()\n",
    "num_images = 0\n",
    "for path in file_paths:\n",
    "    img = cv2.imread(path, 0)\n",
    "    if np.max(img) == 18:\n",
    "        num_images += 1\n",
    "        label_def_combined['s40_40_B'] = label_def['f20_20_B']\n",
    "        img[img == 1] = 0\n",
    "        \n",
    "        label_def_combined['f20_20_G'], label_def_combined['s40_40_G'] = (label_def['s40_40_B'],\n",
    "                                                                          label_def['s40_40_B'])\n",
    "        img[img == 2], img[img == 3] = 1, 1\n",
    "        \n",
    "        label_def_combined['m20_100'] = label_def['f20_20_G']\n",
    "        img[img == 4] = 2\n",
    "        \n",
    "        label_def_combined['m20'], label_def_combined['m30'] = (label_def['s40_40_G'],\n",
    "                                                                          label_def['s40_40_G'])\n",
    "        img[img == 5], img[img == 6] = 3, 3\n",
    "        \n",
    "        label_def_combined['r20'] = label_def['m20_100']\n",
    "        img[img == 7] = 4\n",
    "        \n",
    "        label_def_combined['bearing_box_ax01'], label_def_combined['bearing_box_ax16'] = (label_def['m20'],\n",
    "                                                                          label_def['m20'])\n",
    "        img[img == 8], img[img == 15] = 5, 5\n",
    "        \n",
    "        label_def_combined['bearing'] = label_def['m30']\n",
    "        img[img == 9] = 6\n",
    "        \n",
    "        label_def_combined['axis'] = label_def['r20']\n",
    "        img[img == 10] = 7\n",
    "        \n",
    "        label_def_combined['distance_tube'] = label_def['bearing_box_ax01']\n",
    "        img[img == 11] = 8\n",
    "        \n",
    "        label_def_combined['motor'] = label_def['bearing']\n",
    "        img[img == 12] = 9\n",
    "        \n",
    "        label_def_combined['container_box_blue'] = label_def['axis']\n",
    "        img[img == 13] = 10\n",
    "        \n",
    "        label_def_combined['container_box_red'] = label_def['distance_tube']\n",
    "        img[img == 14] = 11\n",
    "        \n",
    "        label_def_combined['em_01'] = label_def['motor']\n",
    "        img[img == 16] = 12\n",
    "        \n",
    "        label_def_combined['em_02'] = label_def['container_box_blue']\n",
    "        img[img == 17] = 13\n",
    "        \n",
    "        label_def_combined['background'] = label_def['container_box_red']\n",
    "        img[img == 18] = 14\n",
    "        \n",
    "        cv2.imwrite(path, img)\n",
    "        \n",
    "if not (num_images == 0 or num_images == 5000):\n",
    "    raise ValueError('Not all images have been edited')"
   ]
  },
  {
   "cell_type": "code",
   "execution_count": null,
   "metadata": {},
   "outputs": [],
   "source": []
  },
  {
   "cell_type": "code",
   "execution_count": null,
   "metadata": {},
   "outputs": [],
   "source": []
  }
 ],
 "metadata": {
  "kernelspec": {
   "display_name": "Python 3",
   "language": "python",
   "name": "python3"
  },
  "language_info": {
   "codemirror_mode": {
    "name": "ipython",
    "version": 3
   },
   "file_extension": ".py",
   "mimetype": "text/x-python",
   "name": "python",
   "nbconvert_exporter": "python",
   "pygments_lexer": "ipython3",
   "version": "3.6.4"
  }
 },
 "nbformat": 4,
 "nbformat_minor": 2
}
