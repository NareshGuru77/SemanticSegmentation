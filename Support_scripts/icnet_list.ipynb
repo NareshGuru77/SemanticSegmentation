{
 "cells": [
  {
   "cell_type": "code",
   "execution_count": 2,
   "metadata": {},
   "outputs": [],
   "source": [
    "import numpy as np\n",
    "import cv2\n",
    "import os\n",
    "from os.path import join\n",
    "\n",
    "IMAGE_PATH = './image/training/'\n",
    "LABEL_PATH = './ground_truth/training/'"
   ]
  },
  {
   "cell_type": "code",
   "execution_count": 3,
   "metadata": {},
   "outputs": [
    {
     "data": {
      "text/plain": [
       "array([['./objects/image/training/0003.png',\n",
       "        './objects/ground_truth/training/0003.png'],\n",
       "       ['./objects/image/training/0004.png',\n",
       "        './objects/ground_truth/training/0004.png'],\n",
       "       ['./objects/image/training/0005.png',\n",
       "        './objects/ground_truth/training/0005.png'],\n",
       "       ...,\n",
       "       ['./objects/image/training/4995.png',\n",
       "        './objects/ground_truth/training/4995.png'],\n",
       "       ['./objects/image/training/4996.png',\n",
       "        './objects/ground_truth/training/4996.png'],\n",
       "       ['./objects/image/training/4998.png',\n",
       "        './objects/ground_truth/training/4998.png']], dtype='<U40')"
      ]
     },
     "execution_count": 3,
     "metadata": {},
     "output_type": "execute_result"
    }
   ],
   "source": [
    "image_files = sorted(os.listdir(IMAGE_PATH))\n",
    "label_files = sorted(os.listdir(LABEL_PATH))\n",
    "\n",
    "for index, file in enumerate(image_files):\n",
    "    image_files[index] = './objects/image/training/'+file\n",
    "\n",
    "for index, file in enumerate(label_files):\n",
    "    label_files[index] = './objects/ground_truth/training/'+file\n",
    "\n",
    "data_paths = np.array(list(zip(image_files, label_files)))\n",
    "data_paths"
   ]
  },
  {
   "cell_type": "code",
   "execution_count": 4,
   "metadata": {},
   "outputs": [
    {
     "data": {
      "text/plain": [
       "array([['./objects/image/training/1064.png',\n",
       "        './objects/ground_truth/training/1064.png'],\n",
       "       ['./objects/image/training/2749.png',\n",
       "        './objects/ground_truth/training/2749.png'],\n",
       "       ['./objects/image/training/3619.png',\n",
       "        './objects/ground_truth/training/3619.png'],\n",
       "       ...,\n",
       "       ['./objects/image/training/1807.png',\n",
       "        './objects/ground_truth/training/1807.png'],\n",
       "       ['./objects/image/training/0988.png',\n",
       "        './objects/ground_truth/training/0988.png'],\n",
       "       ['./objects/image/training/4111.png',\n",
       "        './objects/ground_truth/training/4111.png']], dtype='<U40')"
      ]
     },
     "execution_count": 4,
     "metadata": {},
     "output_type": "execute_result"
    }
   ],
   "source": [
    "np.random.shuffle(data_paths)\n",
    "data_paths"
   ]
  },
  {
   "cell_type": "code",
   "execution_count": 5,
   "metadata": {},
   "outputs": [],
   "source": [
    "np.savetxt('atWork_train_list.txt', data_paths,fmt=\"%s\" , delimiter=' ')"
   ]
  },
  {
   "cell_type": "code",
   "execution_count": null,
   "metadata": {},
   "outputs": [],
   "source": []
  }
 ],
 "metadata": {
  "kernelspec": {
   "display_name": "Python 3",
   "language": "python",
   "name": "python3"
  },
  "language_info": {
   "codemirror_mode": {
    "name": "ipython",
    "version": 3
   },
   "file_extension": ".py",
   "mimetype": "text/x-python",
   "name": "python",
   "nbconvert_exporter": "python",
   "pygments_lexer": "ipython3",
   "version": "3.6.4"
  }
 },
 "nbformat": 4,
 "nbformat_minor": 2
}
