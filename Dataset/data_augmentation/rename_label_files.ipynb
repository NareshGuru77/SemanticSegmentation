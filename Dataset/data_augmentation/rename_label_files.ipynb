{
 "cells": [
  {
   "cell_type": "code",
   "execution_count": 1,
   "metadata": {},
   "outputs": [],
   "source": [
    "import os\n",
    "import os.path as ph\n",
    "import shutil\n",
    "LABEL_PATH = './label'"
   ]
  },
  {
   "cell_type": "code",
   "execution_count": 2,
   "metadata": {},
   "outputs": [
    {
     "data": {
      "text/plain": [
       "['./label/axis',\n",
       " './label/bearing',\n",
       " './label/bearing_box_ax01',\n",
       " './label/bearing_box_ax16',\n",
       " './label/container_box_blue',\n",
       " './label/container_box_red',\n",
       " './label/distance_tube',\n",
       " './label/em_01',\n",
       " './label/em_02',\n",
       " './label/f20_20_B',\n",
       " './label/f20_20_G',\n",
       " './label/m20',\n",
       " './label/m20_100',\n",
       " './label/m30',\n",
       " './label/motor',\n",
       " './label/r20',\n",
       " './label/s40_40_B',\n",
       " './label/s40_40_G']"
      ]
     },
     "execution_count": 2,
     "metadata": {},
     "output_type": "execute_result"
    }
   ],
   "source": [
    "cls_dir_names = sorted(os.listdir(LABEL_PATH))\n",
    "cls_paths = list()\n",
    "for cls in cls_dir_names:\n",
    "    cls_paths.append(ph.join(LABEL_PATH, cls))\n",
    "    \n",
    "cls_paths"
   ]
  },
  {
   "cell_type": "code",
   "execution_count": 3,
   "metadata": {},
   "outputs": [],
   "source": [
    "img_paths_dict = dict()\n",
    "for path in cls_paths:\n",
    "    img_dirs = sorted(os.listdir(path))\n",
    "    img_paths_dict[path] = img_dirs.copy()\n",
    "    img_dirs.clear()"
   ]
  },
  {
   "cell_type": "code",
   "execution_count": 4,
   "metadata": {},
   "outputs": [],
   "source": [
    "for key in img_paths_dict:\n",
    "    for dirs in img_paths_dict[key]:\n",
    "        file_path = ph.join(key, dirs,'PixelLabelData' ,'Label_1.png')\n",
    "        if ph.isfile(file_path):\n",
    "            os.rename(file_path, ph.join(key, dirs+'.png'))\n",
    "        if ph.isdir(ph.join(key, dirs)):\n",
    "            shutil.rmtree(ph.join(key, dirs))"
   ]
  },
  {
   "cell_type": "code",
   "execution_count": null,
   "metadata": {},
   "outputs": [],
   "source": []
  }
 ],
 "metadata": {
  "kernelspec": {
   "display_name": "Python 3",
   "language": "python",
   "name": "python3"
  },
  "language_info": {
   "codemirror_mode": {
    "name": "ipython",
    "version": 3
   },
   "file_extension": ".py",
   "mimetype": "text/x-python",
   "name": "python",
   "nbconvert_exporter": "python",
   "pygments_lexer": "ipython3",
   "version": "3.6.4"
  }
 },
 "nbformat": 4,
 "nbformat_minor": 2
}
