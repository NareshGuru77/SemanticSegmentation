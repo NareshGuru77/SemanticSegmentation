{
 "cells": [
  {
   "cell_type": "code",
   "execution_count": 14,
   "metadata": {},
   "outputs": [],
   "source": [
    "import os\n",
    "\n",
    "\n",
    "BACKGROUND_VALIDATION = './backgrounds/validation'\n",
    "BACKGROUND_TEST = './backgrounds/test'"
   ]
  },
  {
   "cell_type": "code",
   "execution_count": 19,
   "metadata": {},
   "outputs": [
    {
     "data": {
      "text/plain": [
       "['./backgrounds/validation/background_0189.jpg',\n",
       " './backgrounds/validation/background_0193.jpg',\n",
       " './backgrounds/validation/background_0200.jpg',\n",
       " './backgrounds/validation/background_0195.jpg',\n",
       " './backgrounds/validation/background_0185.jpg',\n",
       " './backgrounds/validation/background_0180.jpg',\n",
       " './backgrounds/validation/background_0179.jpg',\n",
       " './backgrounds/validation/background_0186.jpg',\n",
       " './backgrounds/validation/background_0194.jpg',\n",
       " './backgrounds/validation/background_0197.jpg',\n",
       " './backgrounds/validation/background_0182.jpg',\n",
       " './backgrounds/validation/background_0188.jpg',\n",
       " './backgrounds/validation/background_0187.jpg',\n",
       " './backgrounds/validation/background_0178.jpg',\n",
       " './backgrounds/validation/background_0199.jpg',\n",
       " './backgrounds/validation/background_0191.jpg',\n",
       " './backgrounds/validation/background_0190.jpg',\n",
       " './backgrounds/validation/background_0198.jpg',\n",
       " './backgrounds/validation/background_0177.jpg',\n",
       " './backgrounds/validation/background_0181.jpg',\n",
       " './backgrounds/validation/background_0176.jpg',\n",
       " './backgrounds/validation/background_0183.jpg',\n",
       " './backgrounds/validation/background_0192.jpeg',\n",
       " './backgrounds/validation/background_0184.jpg',\n",
       " './backgrounds/validation/background_0196.jpg']"
      ]
     },
     "execution_count": 19,
     "metadata": {},
     "output_type": "execute_result"
    }
   ],
   "source": [
    "valida_paths = [os.path.join(BACKGROUND_VALIDATION, file) for file in os.listdir(BACKGROUND_VALIDATION)]\n",
    "valida_paths"
   ]
  },
  {
   "cell_type": "code",
   "execution_count": 20,
   "metadata": {},
   "outputs": [],
   "source": [
    "for index, path in enumerate(valida_paths):\n",
    "    extension = path.split('.')[-1]\n",
    "    os.rename(path, os.path.join(BACKGROUND_VALIDATION, 'background_0'+str(index+151)+'.'+extension))"
   ]
  },
  {
   "cell_type": "code",
   "execution_count": 21,
   "metadata": {},
   "outputs": [
    {
     "data": {
      "text/plain": [
       "['./backgrounds/validation/background_0156.jpg',\n",
       " './backgrounds/validation/background_0172.jpg',\n",
       " './backgrounds/validation/background_0170.jpg',\n",
       " './backgrounds/validation/background_0155.jpg',\n",
       " './backgrounds/validation/background_0151.jpg',\n",
       " './backgrounds/validation/background_0163.jpg',\n",
       " './backgrounds/validation/background_0160.jpg',\n",
       " './backgrounds/validation/background_0162.jpg',\n",
       " './backgrounds/validation/background_0158.jpg',\n",
       " './backgrounds/validation/background_0166.jpg',\n",
       " './backgrounds/validation/background_0175.jpg',\n",
       " './backgrounds/validation/background_0171.jpg',\n",
       " './backgrounds/validation/background_0153.jpg',\n",
       " './backgrounds/validation/background_0152.jpg',\n",
       " './backgrounds/validation/background_0169.jpg',\n",
       " './backgrounds/validation/background_0173.jpeg',\n",
       " './backgrounds/validation/background_0164.jpg',\n",
       " './backgrounds/validation/background_0168.jpg',\n",
       " './backgrounds/validation/background_0174.jpg',\n",
       " './backgrounds/validation/background_0157.jpg',\n",
       " './backgrounds/validation/background_0165.jpg',\n",
       " './backgrounds/validation/background_0161.jpg',\n",
       " './backgrounds/validation/background_0154.jpg',\n",
       " './backgrounds/validation/background_0159.jpg',\n",
       " './backgrounds/validation/background_0167.jpg']"
      ]
     },
     "execution_count": 21,
     "metadata": {},
     "output_type": "execute_result"
    }
   ],
   "source": [
    "valida_paths = [os.path.join(BACKGROUND_VALIDATION, file) for file in os.listdir(BACKGROUND_VALIDATION)]\n",
    "valida_paths"
   ]
  },
  {
   "cell_type": "code",
   "execution_count": null,
   "metadata": {},
   "outputs": [],
   "source": []
  }
 ],
 "metadata": {
  "kernelspec": {
   "display_name": "Python 3",
   "language": "python",
   "name": "python3"
  },
  "language_info": {
   "codemirror_mode": {
    "name": "ipython",
    "version": 3
   },
   "file_extension": ".py",
   "mimetype": "text/x-python",
   "name": "python",
   "nbconvert_exporter": "python",
   "pygments_lexer": "ipython3",
   "version": "3.6.4"
  }
 },
 "nbformat": 4,
 "nbformat_minor": 2
}
