{
 "cells": [
  {
   "cell_type": "code",
   "execution_count": 2,
   "metadata": {},
   "outputs": [],
   "source": [
    "import numpy as np\n",
    "import os\n",
    "from os.path import join\n",
    "from shutil import copyfile\n",
    "\n",
    "IMAGE_PATH = './objects/image'\n",
    "LABEL_PATH= './objects/label'\n",
    "\n",
    "TRAINING_PATH = './objects/dataset_split/training'\n",
    "VALIDATION_PATH = './objects/dataset_split/validation'\n",
    "TEST_PATH = './objects/dataset_split/test'\n",
    "\n",
    "AUG_TRAINING_PATH = './objects/augmented/training'\n",
    "AUG_VALIDATION_PATH = './objects/augmented/validation'\n",
    "AUG_TEST_PATH = './objects/augmented/test'\n",
    "\n",
    "AUG_REAL_TRAINING_PATH = './objects/real_augmented/training'\n",
    "AUG_REAL_VALIDATION_PATH = './objects/real_augmented/validation'\n",
    "AUG_REAL_TEST_PATH = './objects/real_augmented/test'"
   ]
  },
  {
   "cell_type": "markdown",
   "metadata": {},
   "source": [
    "# Cell 3,4,5,6 are for creating dataset_split folder"
   ]
  },
  {
   "cell_type": "markdown",
   "metadata": {},
   "source": [
    "object_paths = dict()\n",
    "files_count = 0\n",
    "for obj_dir in os.listdir(LABEL_PATH):\n",
    "    obj_files = list()\n",
    "    for files in sorted(os.listdir(os.path.join(LABEL_PATH, obj_dir))):\n",
    "        files_count += 1\n",
    "        obj_files.append([os.path.join(IMAGE_PATH, obj_dir, files.split('.')[0]+'.jpg'), \n",
    "                 os.path.join(LABEL_PATH, obj_dir, files)])\n",
    "    object_paths[obj_dir] = obj_files.copy()"
   ]
  },
  {
   "cell_type": "markdown",
   "metadata": {},
   "source": [
    "object_paths"
   ]
  },
  {
   "cell_type": "markdown",
   "metadata": {},
   "source": [
    "np.random.seed(0)\n",
    "\n",
    "{key: np.random.shuffle(value) for key, value in object_paths.items()}\n",
    "object_paths"
   ]
  },
  {
   "cell_type": "markdown",
   "metadata": {},
   "source": [
    "for path in [TRAINING_PATH, VALIDATION_PATH, TEST_PATH]:\n",
    "    if not os.path.isdir(join(path, 'image')):\n",
    "        os.makedirs(join(path, 'image'))\n",
    "    if not os.path.isdir(join(path, 'label')):\n",
    "        os.makedirs(join(path, 'label'))\n",
    "        \n",
    "for path in [AUG_TRAINING_PATH, AUG_VALIDATION_PATH, AUG_TEST_PATH]:\n",
    "    if not os.path.isdir(join(path, 'image')):\n",
    "        os.makedirs(join(path, 'image'))\n",
    "    if not os.path.isdir(join(path, 'label')):\n",
    "        os.makedirs(join(path, 'label'))"
   ]
  },
  {
   "cell_type": "markdown",
   "metadata": {},
   "source": [
    "for key in object_paths.keys():\n",
    "    data = object_paths[key]\n",
    "    train, validation, test = np.split(data, [22, 26], axis=0)\n",
    "    for img_and_label in train:\n",
    "        name = img_and_label[0].split('/')[-1]\n",
    "        copyfile(img_and_label[0], join(TRAINING_PATH, 'image', name))\n",
    "        name = img_and_label[1].split('/')[-1]\n",
    "        copyfile(img_and_label[1], join(TRAINING_PATH, 'label', name))\n",
    "        \n",
    "    for img_and_label in validation:\n",
    "        name = img_and_label[0].split('/')[-1]\n",
    "        copyfile(img_and_label[0], join(VALIDATION_PATH, 'image', name))\n",
    "        name = img_and_label[1].split('/')[-1]\n",
    "        copyfile(img_and_label[1], join(VALIDATION_PATH, 'label', name))\n",
    "        \n",
    "    for img_and_label in test:\n",
    "        name = img_and_label[0].split('/')[-1]\n",
    "        copyfile(img_and_label[0], join(TEST_PATH, 'image', name))\n",
    "        name = img_and_label[1].split('/')[-1]\n",
    "        copyfile(img_and_label[1], join(TEST_PATH, 'label', name))"
   ]
  },
  {
   "cell_type": "code",
   "execution_count": 3,
   "metadata": {},
   "outputs": [],
   "source": [
    "for path in [AUG_REAL_TRAINING_PATH, AUG_REAL_VALIDATION_PATH, AUG_REAL_TEST_PATH]:\n",
    "    if not os.path.isdir(join(path, 'image')):\n",
    "        os.makedirs(join(path, 'image'))\n",
    "    if not os.path.isdir(join(path, 'label')):\n",
    "        os.makedirs(join(path, 'label'))"
   ]
  },
  {
   "cell_type": "code",
   "execution_count": 4,
   "metadata": {},
   "outputs": [],
   "source": [
    "def copy_data(src, dest):\n",
    "    file_paths = [join(src, file) for file in os.listdir(src)]\n",
    "    for file in file_paths:\n",
    "        name = file.split('/')[-1]\n",
    "        copyfile(file, join(dest, name))"
   ]
  },
  {
   "cell_type": "code",
   "execution_count": 5,
   "metadata": {},
   "outputs": [],
   "source": [
    "copy_data(join(TRAINING_PATH, 'image'), join(AUG_REAL_TRAINING_PATH, 'image'))\n",
    "copy_data(join(TRAINING_PATH, 'label'), join(AUG_REAL_TRAINING_PATH, 'label'))"
   ]
  },
  {
   "cell_type": "code",
   "execution_count": 6,
   "metadata": {},
   "outputs": [],
   "source": [
    "copy_data(join(VALIDATION_PATH, 'image'), join(AUG_REAL_VALIDATION_PATH, 'image'))\n",
    "copy_data(join(VALIDATION_PATH, 'label'), join(AUG_REAL_VALIDATION_PATH, 'label'))"
   ]
  },
  {
   "cell_type": "code",
   "execution_count": 7,
   "metadata": {},
   "outputs": [],
   "source": [
    "copy_data(join(TEST_PATH, 'image'), join(AUG_REAL_TEST_PATH, 'image'))\n",
    "copy_data(join(TEST_PATH, 'label'), join(AUG_REAL_TEST_PATH, 'label'))"
   ]
  },
  {
   "cell_type": "code",
   "execution_count": 8,
   "metadata": {},
   "outputs": [],
   "source": [
    "copy_data(join(AUG_TRAINING_PATH, 'image'), join(AUG_REAL_TRAINING_PATH, 'image'))\n",
    "copy_data(join(AUG_TRAINING_PATH, 'label'), join(AUG_REAL_TRAINING_PATH, 'label'))"
   ]
  },
  {
   "cell_type": "code",
   "execution_count": 9,
   "metadata": {},
   "outputs": [],
   "source": [
    "copy_data(join(AUG_VALIDATION_PATH, 'image'), join(AUG_REAL_VALIDATION_PATH, 'image'))\n",
    "copy_data(join(AUG_VALIDATION_PATH, 'label'), join(AUG_REAL_VALIDATION_PATH, 'label'))"
   ]
  },
  {
   "cell_type": "code",
   "execution_count": 10,
   "metadata": {},
   "outputs": [],
   "source": [
    "copy_data(join(AUG_TEST_PATH, 'image'), join(AUG_REAL_TEST_PATH, 'image'))\n",
    "copy_data(join(AUG_TEST_PATH, 'label'), join(AUG_REAL_TEST_PATH, 'label'))"
   ]
  },
  {
   "cell_type": "code",
   "execution_count": null,
   "metadata": {},
   "outputs": [],
   "source": []
  }
 ],
 "metadata": {
  "kernelspec": {
   "display_name": "Python 3",
   "language": "python",
   "name": "python3"
  },
  "language_info": {
   "codemirror_mode": {
    "name": "ipython",
    "version": 3
   },
   "file_extension": ".py",
   "mimetype": "text/x-python",
   "name": "python",
   "nbconvert_exporter": "python",
   "pygments_lexer": "ipython3",
   "version": "3.6.4"
  }
 },
 "nbformat": 4,
 "nbformat_minor": 2
}
